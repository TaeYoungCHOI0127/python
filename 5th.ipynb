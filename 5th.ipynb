{
  "nbformat": 4,
  "nbformat_minor": 0,
  "metadata": {
    "colab": {
      "provenance": [],
      "authorship_tag": "ABX9TyP5sON4MHRuJj5essNLUnnZ",
      "include_colab_link": true
    },
    "kernelspec": {
      "name": "python3",
      "display_name": "Python 3"
    },
    "language_info": {
      "name": "python"
    }
  },
  "cells": [
    {
      "cell_type": "markdown",
      "metadata": {
        "id": "view-in-github",
        "colab_type": "text"
      },
      "source": [
        "<a href=\"https://colab.research.google.com/github/TaeYoungCHOI0127/python/blob/main/5th.ipynb\" target=\"_parent\"><img src=\"https://colab.research.google.com/assets/colab-badge.svg\" alt=\"Open In Colab\"/></a>"
      ]
    },
    {
      "cell_type": "code",
      "execution_count": null,
      "metadata": {
        "id": "L-cJgNDylq-i"
      },
      "outputs": [],
      "source": [
        "if:\n",
        " #수행 할 문장\n",
        " #수행 할 문장\n",
        "else:\n",
        " #수행 할 문장\n",
        " #수행 할 문장"
      ]
    },
    {
      "cell_type": "code",
      "source": [
        "name = \"BlockDMask\"  # 변수 name을 \"BlockDMask\"로 초기화합니다.\n",
        "\n",
        "if name == \"BlockDMask\":  # 변수 name이 \"BlockDMask\"와 동일한지 확인합니다.\n",
        "    print(\"이름이 맞습니다.\")  # 조건이 참이면 이 문장을 출력합니다.\n",
        "else:\n",
        "    print(\"이름이 다릅니다.\")  # 조건이 거짓이면 이 문장을 출력합니다.\n"
      ],
      "metadata": {
        "id": "eDGMZfi37O16"
      },
      "execution_count": null,
      "outputs": []
    },
    {
      "cell_type": "code",
      "source": [
        "#1-2\n",
        "pocket = 1000\n",
        "if pocket == 1000:\n",
        " print(\"복권 구매\")\n",
        "elif pocket == 500:\n",
        " print(\"껌 구매\")\n",
        "else:\n",
        " print(\"집 가자\")"
      ],
      "metadata": {
        "id": "grxxj5S_7O44"
      },
      "execution_count": null,
      "outputs": []
    },
    {
      "cell_type": "code",
      "source": [
        "#2-1\n",
        "a = '사과'\n",
        "b = '바나나'\n",
        "c = '치즈'\n",
        "if a == '사과' or b == '안바나나':\n",
        "  print('사과 이거나 바나나 입니다')\n",
        "if a == '사과' and b == '안바나나':\n",
        "  print('사과 이고 바나나 입니다')\n",
        "if not a == '사과' :\n",
        "  print('사과가 아니어야 여기 들어옵니다.')"
      ],
      "metadata": {
        "id": "X-wjtxAL7O8I"
      },
      "execution_count": null,
      "outputs": []
    },
    {
      "cell_type": "code",
      "source": [
        "#2-2\n",
        "a = [1,2,3,4,5,6,7,8]\n",
        "if 1 in a:\n",
        "  print(\"a 리스트에 1이 포함되어있습니다.\")\n",
        "elif 10 in a:\n",
        "  print(\"a 리스트에 10이 포함되어있습니다.\")"
      ],
      "metadata": {
        "id": "CAF1zDyA7O_O"
      },
      "execution_count": null,
      "outputs": []
    },
    {
      "cell_type": "code",
      "source": [
        "p_class = \"Z\"\n",
        "sel_amount = 79900\n",
        "\n",
        "if p_class == \"A\":\n",
        "  sel_amount *= 0.7\n",
        "  print(sel_amount)\n",
        "elif p_class == \"B\":\n",
        "  sel_amount *= 0.85\n",
        "  print(sel_amount)\n",
        "elif p_class == \"C\":\n",
        "  sel_amount *= 0.92\n",
        "  print(sel_amount)\n",
        "elif p_class == \"Z\":\n",
        "  sel_amount += 5000\n",
        "  print(sel_amount)"
      ],
      "metadata": {
        "id": "j-gks3e17UTu"
      },
      "execution_count": null,
      "outputs": []
    },
    {
      "cell_type": "code",
      "source": [
        "#4-1\n",
        "p_class = \"Z\"\n",
        "sel_amount = 79900\n",
        "\n",
        "if p_class == \"A\":\n",
        "  sel_amount *= 0.7 # 55930.0\n",
        "  print(f'판매가는 {sel_amount}원 입니다.')\n",
        "elif p_class == \"B\":\n",
        "  sel_amount *= 0.85 # 67915.0\n",
        "  print(f'판매가는 {sel_amount}원 입니다.')\n",
        "elif p_class == \"C\":\n",
        "  sel_amount *= 0.92# 84900\n",
        "  print(f'판매가는 {sel_amount}원 입니다.')\n",
        "elif p_class == \"Z\":\n",
        "  sel_amount += 5000 # 84900\n",
        "  print(f'판매가는 {sel_amount}원 입니다.')"
      ],
      "metadata": {
        "id": "xuMT7b_V7UWc"
      },
      "execution_count": null,
      "outputs": []
    },
    {
      "cell_type": "code",
      "source": [
        "#4-2\n",
        "x = 11\n",
        "\n",
        "if x< 10:\n",
        "  print('x는 10보다 작아!')\n",
        "else:\n",
        "  print('x는 10보다 작아 않아!')"
      ],
      "metadata": {
        "id": "fPTdCja97UZA"
      },
      "execution_count": null,
      "outputs": []
    },
    {
      "cell_type": "code",
      "source": [
        "#4-3\n",
        "x = 2\n",
        "\n",
        "if x%2 == 0:\n",
        "  print('x는 짝수야!')\n",
        "else:\n",
        "  print('x는 홀수야!')"
      ],
      "metadata": {
        "id": "cnMk1Taf7X0l"
      },
      "execution_count": null,
      "outputs": []
    },
    {
      "cell_type": "code",
      "source": [
        "#5\n",
        "x = 3\n",
        "\n",
        "if x < 10:\n",
        "  print('x는 10보다 작아!')\n",
        "  if x%2 == 0:\n",
        "    print('x는 짝수야!')\n",
        "  else:\n",
        "    print('x는 홀수야!')\n",
        "else:\n",
        "  print('x는 10보다 커!')\n",
        "  if x%2 == 0:\n",
        "    print('x는 짝수야!')\n",
        "  else:\n",
        "    print('x는 홀수야!')"
      ],
      "metadata": {
        "id": "WH8AdzFE7X3Y"
      },
      "execution_count": null,
      "outputs": []
    },
    {
      "cell_type": "code",
      "source": [
        "#6\n",
        "x = 3\n",
        "\n",
        "if x<10 and x%2==0:\n",
        "  print('x는 10보다 작으면서 짝수야!')\n",
        "if x<10 and not x%2==0:\n",
        "  print('x는 10보다 작으면서 홀수야!')\n",
        "if not x<10 and x%2==0:\n",
        "  print('x는 10보다 크면서 짝수야!')\n",
        "if not x<10 and not x%2==0:\n",
        "  print('x는 10보다 크면서 홀수야!')"
      ],
      "metadata": {
        "id": "E5uucWXI7aDg"
      },
      "execution_count": null,
      "outputs": []
    },
    {
      "cell_type": "code",
      "source": [
        "while <조건문>:\n",
        "  <수행할 문장1>\n",
        "  <수행할 문장2>\n",
        "  <수행할 문장3>\n",
        "   ..."
      ],
      "metadata": {
        "id": "JsFPmPIT7aGS"
      },
      "execution_count": null,
      "outputs": []
    },
    {
      "cell_type": "code",
      "source": [
        "#while\n",
        "treeHit = 0\n",
        "\n",
        "while treeHit < 10:\n",
        "  treeHit += 1\n",
        "  print(\"나무를 %d번 찍었습니다.\"%treeHit)\n",
        "  if treeHit == 10:\n",
        "    print(\"나무 넘어갑니다.\")"
      ],
      "metadata": {
        "id": "6Km7mX5P7aIU"
      },
      "execution_count": null,
      "outputs": []
    },
    {
      "cell_type": "code",
      "source": [
        "#break\n",
        "coffee = 10\n",
        "money = 300\n",
        "while money:\n",
        "  print(\"돈을 받았으니 커피를 줍니다.\")\n",
        "  coffee -= 1\n",
        "  print(\"남은 커피의 양은 %d개 입니다.\"%coffee)\n",
        "  if coffee == 0:\n",
        "    print(\"커피가 다 떨어졌습니다. 판매를 중지합니다.\")\n",
        "    break"
      ],
      "metadata": {
        "id": "9vJU2QiR7irN"
      },
      "execution_count": null,
      "outputs": []
    },
    {
      "cell_type": "code",
      "source": [
        "# 1번 방법\n",
        "from re import I\n",
        "#while_example_1\n",
        "i = 0\n",
        "result1 = 0\n",
        "while i < 100:\n",
        "  i += 1\n",
        "  if i % 2 == 0:\n",
        "    result1 += I\n",
        "\n",
        "print('1번 방법 : {0}'.format(result1))"
      ],
      "metadata": {
        "id": "SWOTDIGU7izg"
      },
      "execution_count": null,
      "outputs": []
    },
    {
      "cell_type": "code",
      "source": [
        "# 2번 방법\n",
        "j = 0\n",
        "result2 = 0\n",
        "while True:\n",
        "  if j > 100:\n",
        "    break\n",
        "\n",
        "  j +=1\n",
        "  if j % 2 == 0:\n",
        "    result2 += j\n",
        "\n",
        "print('2번 방법 (break) : {0}'.format(result2))"
      ],
      "metadata": {
        "id": "zz8BT8Zx7o8Q"
      },
      "execution_count": null,
      "outputs": []
    },
    {
      "cell_type": "code",
      "source": [
        "# 3번 방법\n",
        "k = 0\n",
        "result3 = 0\n",
        "while k < 100:\n",
        "  k += 1\n",
        "  if k % 2 != 0:\n",
        "    continue\n",
        "\n",
        "  result3 += k\n",
        "\n",
        "print('3번 방법 (continue) : {0}'.format(result3))"
      ],
      "metadata": {
        "id": "_g31m2EC7o_A"
      },
      "execution_count": null,
      "outputs": []
    }
  ]
}