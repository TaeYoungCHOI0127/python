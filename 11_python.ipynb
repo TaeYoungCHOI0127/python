{
  "nbformat": 4,
  "nbformat_minor": 0,
  "metadata": {
    "colab": {
      "provenance": [],
      "authorship_tag": "ABX9TyMhfqbRTXEeZ9MtIDK/MNSL",
      "include_colab_link": true
    },
    "kernelspec": {
      "name": "python3",
      "display_name": "Python 3"
    },
    "language_info": {
      "name": "python"
    }
  },
  "cells": [
    {
      "cell_type": "markdown",
      "metadata": {
        "id": "view-in-github",
        "colab_type": "text"
      },
      "source": [
        "<a href=\"https://colab.research.google.com/github/TaeYoungCHOI0127/python/blob/main/11_python.ipynb\" target=\"_parent\"><img src=\"https://colab.research.google.com/assets/colab-badge.svg\" alt=\"Open In Colab\"/></a>"
      ]
    },
    {
      "cell_type": "code",
      "execution_count": null,
      "metadata": {
        "id": "-E6o1OTlehok"
      },
      "outputs": [],
      "source": [
        "# 'ex_memo.txt' 파일을 쓰기 모드로 열기\n",
        "f = open('ex_memo.txt', 'w')\n",
        "\n",
        "# 학생 이름 리스트 생성\n",
        "students = ['김철수', '최영', '한석규', '김태희']\n",
        "\n",
        "# 리스트의 각 학생 이름을 파일에 한 줄씩 쓰기\n",
        "for student in students:\n",
        "    msg = student  # 현재 학생의 이름을 msg 변수에 저장\n",
        "    f.write(msg + \"\\n\")  # 파일에 학생 이름 쓰고 줄바꿈 추가\n",
        "\n",
        "# 파일 작업 완료 후 파일 닫기\n",
        "f.close()\n",
        "\n",
        "# 'hello.txt' 파일을 쓰기 모드로 열기\n",
        "file = open('hello.txt', 'w')\n",
        "\n",
        "# 파일에 'Hello, world!' 문자열 쓰기\n",
        "file.write('Hello, world!')\n",
        "\n",
        "# 파일 작업 완료 후 파일 닫기\n",
        "file.close()\n"
      ]
    },
    {
      "cell_type": "code",
      "source": [
        "# 'test.txt' 파일을 추가 모드('a')로 열고, 인코딩을 'UTF-8'로 설정하여 한글 처리가 가능하게 함\n",
        "f = open('test.txt', 'a', encoding='UTF-8')\n",
        "\n",
        "# 4부터 9까지의 숫자를 이용해 반복\n",
        "for i in range(4, 10):\n",
        "    # 문자열 포맷팅을 통해 각 줄에 들어갈 문자열을 생성\n",
        "    data = \"%d 번째 줄입니다. \\n\" % i\n",
        "    # 생성된 문자열을 파일에 쓰기\n",
        "    f.write(data)\n",
        "\n",
        "# 파일 작업 완료 후 파일을 닫아 자원을 해제\n",
        "f.close()\n",
        "\n"
      ],
      "metadata": {
        "id": "8O8BOtxMgJRi"
      },
      "execution_count": null,
      "outputs": []
    },
    {
      "cell_type": "code",
      "source": [
        "# 사전(dict1) 생성, 'hello'와 'brother'라는 키에 각각 1과 2라는 값 할당\n",
        "dict1 = {'hello': 1, 'brother': 2}\n",
        "\n",
        "# 'Original.txt' 파일을 쓰기 모드로 열기\n",
        "file1 = open(\"Original.txt\", \"w\")\n",
        "\n",
        "# 사전(dict1)을 문자열 표현으로 변환하여 str1에 저장\n",
        "str1 = repr(dict1)\n",
        "\n",
        "# 'Original.txt' 파일에 사전 데이터(dict1)와 해당 데이터를 문자열로 변환한 str1을 기록\n",
        "file1.write(\"dict1 = \" + str1 + \"\\n\")\n",
        "\n",
        "# 'Original.txt' 파일을 닫기\n",
        "file1.close()\n",
        "\n",
        "# 'test.txt' 파일을 쓰기 모드로 열기\n",
        "test_file = open(\"test.txt\", \"w\")\n",
        "\n",
        "# 변수 a와 b에 각각 1과 2 할당\n",
        "a = 1\n",
        "b = 2\n",
        "\n",
        "# 'test.txt' 파일에 a와 b의 합계를 계산하고, 해당 결과를 문자열 포맷팅을 통해 파일에 쓰기\n",
        "test_file.write('%d - %d = %d' % (a, b, a+b))\n",
        "\n",
        "# 'test.txt' 파일을 닫기 (주의: test_file.close()로 호출해야 함)\n",
        "test_file.close()\n"
      ],
      "metadata": {
        "id": "c1buCdgIgJUV"
      },
      "execution_count": null,
      "outputs": []
    },
    {
      "cell_type": "code",
      "source": [
        "from random import randint\n",
        "\n",
        "with open('text.txt', 'w') as f:\n",
        "    f.write('이번주 로또 번호는 →')\n",
        "    for lotto in range(6):\n",
        "        f.write(str(randint(0, 50)) + ' , ')"
      ],
      "metadata": {
        "id": "rvLes5t6gJXF"
      },
      "execution_count": null,
      "outputs": []
    },
    {
      "cell_type": "code",
      "source": [
        "lines = ['안녕하세요.\\n', '파이썬\\n', '코딩 도장입니다 \\n']\n",
        "\n",
        "with open('hello.txt', 'w') as file:\n",
        "    file.writelines(lines)\n",
        "file.close()\n",
        "\n",
        "f = open(\"hz.txt\", \"a\", encoding='UTF-8')\n",
        "f.writelines([\"\\n홈짱닷컴\", \"\\nHomzzang.com\"])\n",
        "f.close()"
      ],
      "metadata": {
        "id": "nXB0blvdgJZn"
      },
      "execution_count": null,
      "outputs": []
    },
    {
      "cell_type": "code",
      "source": [
        "f = open('ex_memo.txt', 'w')\n",
        "students = ['김철수', '최영', '한석규', '김태희']\n",
        "for student in students:\n",
        "    msg = student\n",
        "    f.write(msg+\"\\n\")\n",
        "f.close()\n",
        "\n",
        "f = open('ex_memo2.txt', 'w')\n",
        "students = ['김철수', '최영', '한석규', '김태희']\n",
        "f.writelines('\\n'.join(students))\n",
        "f.close"
      ],
      "metadata": {
        "id": "SivrLcX3gJcJ"
      },
      "execution_count": null,
      "outputs": []
    },
    {
      "cell_type": "code",
      "source": [
        "f = open('ex_memo.txt', 'r')\n",
        "\n",
        "print('\\n1. read()')\n",
        "print(f'위치 : {f.tell()}')\n",
        "s1 = f.read(1)\n",
        "print(s1)\n",
        "print('\\n2. readline()')\n",
        "print(f'위치 : {f.tell()}')\n",
        "s2 = f.readline()\n",
        "print(s2)\n",
        "print('\\n3. readlines()')\n",
        "print(f'위치 : {f.tell()}')\n",
        "s3 = f.readlines()\n",
        "print(s3)"
      ],
      "metadata": {
        "id": "D-f5Hd2bgJe5"
      },
      "execution_count": null,
      "outputs": []
    },
    {
      "cell_type": "code",
      "source": [
        "f = open(r'text.txt')\n",
        "#f = open('test.txt', 'r')\n",
        "text = f.read()\n",
        "print(text)\n",
        "\n",
        "f.close()"
      ],
      "metadata": {
        "id": "nl1PEUrpgJhx"
      },
      "execution_count": null,
      "outputs": []
    },
    {
      "cell_type": "code",
      "source": [
        "f = open(r'test.txt')\n",
        "line = f.readline()\n",
        "line = line.strip()\n",
        "print(line)\n",
        "line = f.readline()\n",
        "line = line.strip()\n",
        "print(line)\n",
        "line = f.readline()\n",
        "line = line.strip()\n",
        "print(line)\n",
        "\n",
        "f.close()"
      ],
      "metadata": {
        "id": "rZSHenFOgJka"
      },
      "execution_count": null,
      "outputs": []
    }
  ]
}