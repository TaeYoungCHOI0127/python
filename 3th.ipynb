{
  "nbformat": 4,
  "nbformat_minor": 0,
  "metadata": {
    "colab": {
      "provenance": [],
      "authorship_tag": "ABX9TyMd3//7Au9GjBmoFsL8kDPG",
      "include_colab_link": true
    },
    "kernelspec": {
      "name": "python3",
      "display_name": "Python 3"
    },
    "language_info": {
      "name": "python"
    }
  },
  "cells": [
    {
      "cell_type": "markdown",
      "metadata": {
        "id": "view-in-github",
        "colab_type": "text"
      },
      "source": [
        "<a href=\"https://colab.research.google.com/github/TaeYoungCHOI0127/python/blob/main/3th.ipynb\" target=\"_parent\"><img src=\"https://colab.research.google.com/assets/colab-badge.svg\" alt=\"Open In Colab\"/></a>"
      ]
    },
    {
      "cell_type": "code",
      "execution_count": null,
      "metadata": {
        "colab": {
          "base_uri": "https://localhost:8080/"
        },
        "id": "FWGcHRTdObda",
        "outputId": "360b8458-d955-4094-8593-5346a2e884ff"
      },
      "outputs": [
        {
          "output_type": "stream",
          "name": "stdout",
          "text": [
            "Hello\n",
            "hello everyone\n",
            "helloeveryone\n"
          ]
        }
      ],
      "source": [
        "print(\"Hello\")\n",
        "print('hello','everyone')\n",
        "print('hello'+'everyone')"
      ]
    },
    {
      "cell_type": "code",
      "source": [
        " print('hello', end='')\n",
        " print('test')"
      ],
      "metadata": {
        "id": "A6WMTYkfOet1"
      },
      "execution_count": null,
      "outputs": []
    },
    {
      "cell_type": "code",
      "source": [
        "a = 123\n",
        "b = 'hello'\n",
        "print(a, b)\n",
        "print(a, 456, b, 'world')"
      ],
      "metadata": {
        "id": "_0iVP0FkOiBy"
      },
      "execution_count": null,
      "outputs": []
    },
    {
      "cell_type": "code",
      "source": [
        "print('Hello \"Python\"')\n",
        "print(\"Hello 'Python'\")\n",
        "print('Hello','Python!')\n",
        "print('Hello'+'Python!')"
      ],
      "metadata": {
        "id": "vOQ2HEVPO7A6"
      },
      "execution_count": null,
      "outputs": []
    },
    {
      "cell_type": "code",
      "source": [
        "print(\"화면에 직접 출력\")\n",
        "print('ab\\'c')\n",
        "print(\"ab'c\")\n",
        "print(\"doesn't\")\n",
        "print('does')\n",
        "print('doesn\\'t')\n",
        "print(\"'string'\")\n",
        "print(\"\\\"string\\\"\")\n",
        "print('\"string\"')"
      ],
      "metadata": {
        "id": "h9oBsDTMO8dA"
      },
      "execution_count": null,
      "outputs": []
    },
    {
      "cell_type": "code",
      "source": [
        "s1 = '화면에 직접 출력'\n",
        "s2 = 'ab\\'c'\n",
        "s3 = 'does'\n",
        "print(s1)\n",
        "print(s2)\n",
        "print(s3)\n",
        "print(s1[0]) # 첫 글자\n",
        "print(s2[1]) # 두 번째 글자\n",
        "print(s3[1:3])\n",
        "print(s3[-1]) # 마지막 글자\n",
        "print(s3[-2]) # 뒤에서 두 번째"
      ],
      "metadata": {
        "id": "AbstVCz4O-u8"
      },
      "execution_count": null,
      "outputs": []
    },
    {
      "cell_type": "code",
      "source": [
        "a = 2\n",
        "b = 3.14\n",
        "c = a+b\n",
        "print(a)\n",
        "print(b)\n",
        "print(c)\n",
        "print(round(c,2))\n",
        "print(\"%.2f\"%(c))\n",
        "print(a+b)\n",
        "print(a,b,a+b,c)\n",
        "d = 1e2\n",
        "e = 1e-2\n",
        "print(d)\n",
        "print(e)"
      ],
      "metadata": {
        "id": "MDGNbEVxPAP8"
      },
      "execution_count": null,
      "outputs": []
    },
    {
      "cell_type": "code",
      "source": [
        "item1 = '사과'\n",
        "price1 = 1000\n",
        "item2 = '바나나'\n",
        "price2 = 500\n",
        "print(item1, price1)\n",
        "print(item2, price2)\n"
      ],
      "metadata": {
        "id": "iLAYisTCPCnk"
      },
      "execution_count": null,
      "outputs": []
    },
    {
      "cell_type": "code",
      "source": [
        "item1 = '사과'\n",
        "price1 = 1000\n",
        "item2 = '바나나'\n",
        "price2 = 500\n",
        "str1 = '{0}는 {1}원입니다.'\n",
        "print(str1.format(item1, price1))\n",
        "print(str1.format(item2, price2))"
      ],
      "metadata": {
        "id": "ySwS09QEQSm_"
      },
      "execution_count": null,
      "outputs": []
    },
    {
      "cell_type": "code",
      "source": [
        "item1 = '사과'\n",
        "price1 = 1000\n",
        "item2 = '바나나'\n",
        "price2 = 500\n",
        "print(item1, price1, sep='*', end='/')\n",
        "print(item2, price2)"
      ],
      "metadata": {
        "id": "76M5pCkeQUOC"
      },
      "execution_count": null,
      "outputs": []
    },
    {
      "cell_type": "code",
      "source": [
        "item1 = '사과'\n",
        "price1 = 1000\n",
        "item2 = '바나나'\n",
        "price2 = 500\n",
        "str2 = '%s는 %d원입니다.'\n",
        "print(str2%(item1, price1))\n",
        "print(str2%(item2, price2))"
      ],
      "metadata": {
        "id": "uemsyCa0QVno"
      },
      "execution_count": null,
      "outputs": []
    }
  ]
}