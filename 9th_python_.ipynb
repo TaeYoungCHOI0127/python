{
  "nbformat": 4,
  "nbformat_minor": 0,
  "metadata": {
    "colab": {
      "provenance": [],
      "authorship_tag": "ABX9TyOuyRkUO9Pait1uyWxGPeLH",
      "include_colab_link": true
    },
    "kernelspec": {
      "name": "python3",
      "display_name": "Python 3"
    },
    "language_info": {
      "name": "python"
    }
  },
  "cells": [
    {
      "cell_type": "markdown",
      "metadata": {
        "id": "view-in-github",
        "colab_type": "text"
      },
      "source": [
        "<a href=\"https://colab.research.google.com/github/TaeYoungCHOI0127/python/blob/main/9th_python_.ipynb\" target=\"_parent\"><img src=\"https://colab.research.google.com/assets/colab-badge.svg\" alt=\"Open In Colab\"/></a>"
      ]
    },
    {
      "cell_type": "code",
      "execution_count": null,
      "metadata": {
        "id": "sHcTelgjFU8z"
      },
      "outputs": [],
      "source": [
        "text = '0000000Water boils at 100 degrees 000'\n",
        "print(text.lstrip('0'))\n",
        "print(text.rstrip('0'))\n",
        "print(text.strip('0’))\n",
        "\n",
        "text = \",,,,,123.....water....pp\"\n",
        "print(text.lstrip(',123.p'))\n",
        "print(text.rstrip(',123.p'))\n",
        "print(text.strip(',123.p’))\n",
        "\n",
        "text = ' Water boils at 100 degrees '\n",
        "print(text.lstrip(' Water'))\n",
        "print(text.rstrip(' degrees '))\n",
        "print(text.strip(' degrees '))"
      ]
    },
    {
      "cell_type": "code",
      "source": [
        "### 우측 정렬 예\n",
        "s = '가나다라'\n",
        "n = 7\n",
        "\n",
        "answer = ''\n",
        "for i in range(n-len(s)): # 문자열의 앞을 빈 문자열로 채우는 for 문\n",
        "    answer += ' '\n",
        "answer += s"
      ],
      "metadata": {
        "id": "U72an80-FabG"
      },
      "execution_count": null,
      "outputs": []
    },
    {
      "cell_type": "code",
      "source": [
        "s = '가나다라'\n",
        "n = 20\n",
        "\n",
        "print(s.ljust(n)) # 좌측 정렬\n",
        "\n",
        "print(s.center(n)) # 가운데 정렬\n",
        "\n",
        "print(s.rjust(n)) # 우측 정렬"
      ],
      "metadata": {
        "id": "zWxjP9hzFad8"
      },
      "execution_count": null,
      "outputs": []
    },
    {
      "cell_type": "code",
      "source": [
        "s = \"a b c d e f g\"\n",
        "print(f's         : {s}')\n",
        "\n",
        "r = s.split()\n",
        "print(f's.split() : {r}')"
      ],
      "metadata": {
        "id": "1oVZgX7hFagp"
      },
      "execution_count": null,
      "outputs": []
    },
    {
      "cell_type": "code",
      "source": [
        "s = \"aa.bb.cc.dd.ee.ff.gg\"\n",
        "print(f's                : {s}')\n",
        "\n",
        "r0 = s.split()\n",
        "r1 = s.split('.')\n",
        "r2 = s.split(sep='.')\n",
        "print(f\"s.split()        : {r0}\")\n",
        "print(f\"s.split('.')     : {r1}\")\n",
        "print(f\"s.split(sep='.') : {r2}\")"
      ],
      "metadata": {
        "id": "iqZlOsQkFajE"
      },
      "execution_count": null,
      "outputs": []
    },
    {
      "cell_type": "code",
      "source": [
        "s = \"aa.bb.cc.BlockDMask.ee.ff.gg.python.example\"\n",
        "print(f'{s}')\n",
        "\n",
        "r0 = s.split()\n",
        "r1 = s.split('.', 3)\n",
        "r2 = s.split(sep='.', maxsplit=3)\n",
        "r3 = s.split('.', maxsplit=3)\n",
        "print(f\"\\ns.split()\\n{r0}\")\n",
        "print(f\"\\ns.split('.', 3)\\n{r1}\")\n",
        "print(f\"\\ns.split(sep='.', maxsplit=3)\\n{r2}\")\n",
        "print(f\"\\ns.split('.', maxsplit=3)\\n{r3}\")"
      ],
      "metadata": {
        "id": "od1eONbFFalm"
      },
      "execution_count": null,
      "outputs": []
    },
    {
      "cell_type": "code",
      "source": [
        "txt = \"홈짱닷컴\\nHomzzang.com\"\n",
        "\n",
        "x = txt.splitlines()\n",
        "\n",
        "print(x)"
      ],
      "metadata": {
        "id": "wSR6sjhPFaoC"
      },
      "execution_count": null,
      "outputs": []
    },
    {
      "cell_type": "code",
      "source": [
        "g = 'Milk\\nChicken\\r\\nBread\\rButter'\n",
        "\n",
        "print(g.splitlines())\n",
        "print(g.splitlines(True))\n",
        "\n",
        "g = 'Milk Chicken Bread Butter'\n",
        "print(g.splitlines())"
      ],
      "metadata": {
        "id": "oJGD2xX_Faqh"
      },
      "execution_count": null,
      "outputs": []
    },
    {
      "cell_type": "code",
      "source": [
        "text = '123,456,789,999'\n",
        "\n",
        "replaceAll= text.replace(\",\",\"\")\n",
        "replace_t1 = text.replace(\",\", \"\",1)\n",
        "replace_t2 = text.replace(\",\", \"\",2)\n",
        "replace_t3 = text.replace(\",\", \"\",3)\n",
        "print(\"결과 :\")\n",
        "print(replaceAll)\n",
        "print(replace_t1)\n",
        "print(replace_t2)\n",
        "print(replace_t3)"
      ],
      "metadata": {
        "id": "4nHaj_09Fasu"
      },
      "execution_count": null,
      "outputs": []
    },
    {
      "cell_type": "code",
      "source": [
        "a = ['a', 'b', 'c', 'd', '1', '2', '3']\n",
        "print(a)\n",
        "print()\n",
        "\n",
        "# 리스트를 문자열로 : join 이용\n",
        "result1 = \"\".join(a)\n",
        "print(result1)\n",
        "\n",
        "\n",
        "# 리스트를 문자열로 : 하나하나 문자열을 더해서.\n",
        "result2 = ''\n",
        "for v in a:\n",
        "    result2 += v\n",
        "\n",
        "print(result2)"
      ],
      "metadata": {
        "id": "22Il8WXpFavS"
      },
      "execution_count": null,
      "outputs": []
    },
    {
      "cell_type": "code",
      "source": [
        "print( \"3\".zfill(3) )\n",
        "\n",
        "print( \"s\".zfill(4) )\n",
        "\n",
        "\n",
        "for x in range(3):\n",
        "    print( str(x).zfill(4) )\n",
        "\n",
        "\n",
        "str = '1234'\n",
        "str_zero = str.zfill(8)\n",
        "print(str_zero)"
      ],
      "metadata": {
        "id": "YS0uQ1wRFax8"
      },
      "execution_count": null,
      "outputs": []
    },
    {
      "cell_type": "code",
      "source": [
        "a=\"abc\"\n",
        "\n",
        "print(a.rjust(10))\n",
        "\n",
        "print(a.rjust(10,'#'))\n",
        "\n",
        "b=\"def\"\n",
        "\n",
        "print(b.ljust(15))\n",
        "\n",
        "Print(b.ljust(15,'k'))"
      ],
      "metadata": {
        "id": "BaC924hvFa0c"
      },
      "execution_count": null,
      "outputs": []
    }
  ]
}