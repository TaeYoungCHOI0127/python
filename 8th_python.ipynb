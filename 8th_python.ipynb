{
  "nbformat": 4,
  "nbformat_minor": 0,
  "metadata": {
    "colab": {
      "provenance": [],
      "authorship_tag": "ABX9TyPGzOmU14KPTo9H6b9REsUP",
      "include_colab_link": true
    },
    "kernelspec": {
      "name": "python3",
      "display_name": "Python 3"
    },
    "language_info": {
      "name": "python"
    }
  },
  "cells": [
    {
      "cell_type": "markdown",
      "metadata": {
        "id": "view-in-github",
        "colab_type": "text"
      },
      "source": [
        "<a href=\"https://colab.research.google.com/github/TaeYoungCHOI0127/python/blob/main/8th_python.ipynb\" target=\"_parent\"><img src=\"https://colab.research.google.com/assets/colab-badge.svg\" alt=\"Open In Colab\"/></a>"
      ]
    },
    {
      "cell_type": "code",
      "execution_count": null,
      "metadata": {
        "id": "Fmt5aBNo8-RD"
      },
      "outputs": [],
      "source": [
        "text1 = \"네이스123\"\n",
        "text2 = \"1231231\"\n",
        "text3 = \"!@#\"\n",
        "text4 = \"!#1234\"\n",
        "text5 = \"nice\"\n",
        "text6 = \"nicew1234\"\n",
        "print(text1.isalnum())\n",
        "print(text2.isalnum())\n",
        "print(text3.isalnum())\n",
        "print(text4.isalnum())\n",
        "print(text5.isalnum())\n",
        "print(text6.isalnum())\n",
        "3. isalpha()"
      ]
    },
    {
      "cell_type": "code",
      "source": [
        "text = \"!#@#!@$!!@%@%!@@$231@3131이!!#@!네!@스$\"\n",
        "text1 = \"네이스\"\n",
        "text2 = \"123123\"\n",
        "text3 = \"!@#!\"\n",
        "check = \"\"\n",
        "print(text1.isalpha())\n",
        "print(text2.isalpha())\n",
        "print(text3.isalpha())\n",
        "for i in text:\n",
        "    if i.isalpha():\n",
        "        check += i\n",
        "print(check)"
      ],
      "metadata": {
        "id": "0MvAHtPF9FZ2"
      },
      "execution_count": null,
      "outputs": []
    },
    {
      "cell_type": "code",
      "source": [
        "a = \"BlockDMask\"\n",
        "b = \"1234Blog\"\n",
        "c = \"1231231\"\n",
        "d = \"-234\"\n",
        "e = \"1.23\"\n",
        "f = \"3\"\n",
        "g = '2/3'\n",
        "h = \"0\"\n",
        "print(f\"'{a}' .isdigit() : {str.isdigit(a)}\")\n",
        "print(f\"'{b}' .isdigit() : {str.isdigit(b)}\")\n",
        "print(f\"'{c}' .isdigit() : {str.isdigit(c)}\")\n",
        "print(f\"'{d}' .isdigit() : {str.isdigit(d)}\")\n",
        "print(f\"'{e}' .isdigit() : {str.isdigit(e)}\")"
      ],
      "metadata": {
        "id": "DOkrHQ2n9Fc-"
      },
      "execution_count": null,
      "outputs": []
    },
    {
      "cell_type": "code",
      "source": [
        "a = '123456789'\n",
        "print(a.isdigit())\n",
        "print(a.isdecimal())\n",
        "print(a.isnumeric())\n",
        "print('\\n\\n')\n",
        "x ='3'\n",
        "print(x)\n",
        "print(x.isdigit())\n",
        "# True\n",
        "print(x.isdecimal())\n",
        "# False\n",
        "print(x.isnumeric())"
      ],
      "metadata": {
        "id": "Lbs4AXrz9Ffw"
      },
      "execution_count": null,
      "outputs": []
    },
    {
      "cell_type": "code",
      "source": [
        "a = \"I Love Python\"\n",
        "\n",
        "print(a.islower())\n",
        "print(a.islower())\n",
        "print(a.upper())\n",
        "print(a.lower())\n",
        "\n",
        "print('\\n\\n')\n",
        "\n",
        "str = \"This is string example...wow!!!\"\n",
        "print(str.islower())\n",
        "print(str.upper())\n",
        "\n",
        "str = \"this is string example...wow!!!\"\n",
        "print(str.islower())"
      ],
      "metadata": {
        "id": "DbL8BkwH9Fie"
      },
      "execution_count": null,
      "outputs": []
    },
    {
      "cell_type": "code",
      "source": [
        "str = \"This is string Example...Wow!!!\"\n",
        "print(str.swapcase())\n",
        "\n",
        "str = \"THIsis stRINg eXample...Wow!!!   1234\"\n",
        "print(str.swapcase())"
      ],
      "metadata": {
        "id": "7Oir4jQO9FlG"
      },
      "execution_count": null,
      "outputs": []
    },
    {
      "cell_type": "code",
      "source": [
        "str = \"This Is String Example...Wow!!!\"\n",
        "print(str.istitle())\n",
        "\n",
        "str = \"This is string example...Wow!!!\"\n",
        "print(str.istitle())\n",
        "print(str.title())"
      ],
      "metadata": {
        "id": "iHdMjVoM9Fnu"
      },
      "execution_count": null,
      "outputs": []
    }
  ]
}