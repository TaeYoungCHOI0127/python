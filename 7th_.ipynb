{
  "nbformat": 4,
  "nbformat_minor": 0,
  "metadata": {
    "colab": {
      "provenance": [],
      "authorship_tag": "ABX9TyMSbu1V6cXDPYzaAyZB1HCl",
      "include_colab_link": true
    },
    "kernelspec": {
      "name": "python3",
      "display_name": "Python 3"
    },
    "language_info": {
      "name": "python"
    }
  },
  "cells": [
    {
      "cell_type": "markdown",
      "metadata": {
        "id": "view-in-github",
        "colab_type": "text"
      },
      "source": [
        "<a href=\"https://colab.research.google.com/github/TaeYoungCHOI0127/python/blob/main/7th_.ipynb\" target=\"_parent\"><img src=\"https://colab.research.google.com/assets/colab-badge.svg\" alt=\"Open In Colab\"/></a>"
      ]
    },
    {
      "cell_type": "code",
      "execution_count": null,
      "metadata": {
        "id": "Guowvjl4Yo3u"
      },
      "outputs": [],
      "source": [
        "# 문자열 길이 계산 - len()\n",
        "#len() : Returns the length of the string\n",
        "# 문자열 'a'를 선언하고 ' I Love Python'을 할당합니다.\n",
        "a = ' I Love Python'\n",
        "# 문자열 'a'의 길이를 출력합니다.\n",
        "print(len(a))  # 출력값은 14입니다. 문자열의 시작 부분에 공백이 포함되어 있기 때문입니다.\n",
        "# Example 1: 문자열 길이 측정 사용 예\n",
        "\n",
        "# 변수 'name'을 선언하고 문자열 'BlockDMask'를 할당합니다.\n",
        "name = 'BlockDMask'\n",
        "# 변수 'phone'을 선언하고 문자열 ' 010 xxxx xxxx'를 할당합니다.\n",
        "# 문자열 앞에 공백이 포함되어 있으므로 전체 길이는 13입니다.\n",
        "phone = ' 010 xxxx xxxx'\n",
        "# 변수 'address'를 선언하고 문자열 'korea'를 할당합니다.\n",
        "address = 'korea'\n",
        "\n",
        "# 각 문자열의 길이를 출력합니다.\n",
        "print(len(name))    # 출력 결과: 10\n",
        "print(len(phone))   # 출력 결과: 13\n",
        "print(len(address)) # 출력 결과: 5\n"
      ]
    },
    {
      "cell_type": "code",
      "source": [
        "# 예제 1: 리스트에서 최소값 찾기\n",
        "a = [1, 2, 3]\n",
        "print(min(a))  # 출력 결과: 1\n",
        "# 리스트 a에서 가장 작은 값을 찾아 출력합니다.\n",
        "\n",
        "# 예제 2: 문자열에서 알파벳 순으로 가장 앞서는 문자 찾기\n",
        "b = 'BlockDMask'\n",
        "print(min(b))  # 출력 결과: 'B'\n",
        "# 문자열 b에서 알파벳 순으로 가장 앞서는 문자를 찾아 출력합니다.\n",
        "\n",
        "# 예제 3: 단일 정수는 비교 대상이 없어서 오류 발생\n",
        "c = 1\n",
        "# print(min(c))  # 오류 발생: 'int' 객체는 반복 가능한 객체가 아닙니다.\n",
        "\n",
        "# 예제 4: 튜플에서 최소값 찾기\n",
        "d = (6, 5, 4, 2)\n",
        "print(min(d))  # 출력 결과: 2\n",
        "# 튜플 d에서 가장 작은 값을 찾아 출력합니다.\n",
        "\n",
        "# 예제 5: 자료형이 섞인 리스트에서 최소값 찾기 시 오류 발생\n",
        "e = [3, 4, 5, 'a', 'b', 'c']\n",
        "# print(min(e))  # 오류 발생: 문자열과 정수를 비교할 수 없습니다.\n",
        "# 리스트 e에서 다른 자료형이 섞여 있어 비교할 수 없기 때문에 오류가 발생합니다.\n"
      ],
      "metadata": {
        "id": "LbzP4hiXYqzl"
      },
      "execution_count": null,
      "outputs": []
    },
    {
      "cell_type": "code",
      "source": [
        "min (arg1, arg2) 함수 예제\n",
        "\n",
        "# 예제 1: 두 개의 리스트 중 사전식으로 더 작은 리스트 반환\n",
        "a = [1, 2, 3]\n",
        "b = [4, 5, 6]\n",
        "print(min(a, b))  # 출력 결과: [1, 2, 3]\n",
        "# 리스트 a와 b를 비교했을 때, 사전식으로 a가 더 작기 때문에 a를 반환합니다.\n",
        "\n",
        "# 예제 2: 두 문자열 중 사전식으로 더 작은 문자열 반환\n",
        "c = 'BlockDMask'\n",
        "d = 'BAAAlockDMask'\n",
        "print(min(c, d))  # 출력 결과: 'BAAAlockDMask'\n",
        "# 문자열 c와 d를 비교했을 때, 'BAAAlockDMask'가 사전식으로 더 앞서기 때문에 이를 반환합니다.\n",
        "\n",
        "# 예제 3: 서로 다른 타입이 섞인 리스트 비교 시 오류 발생\n",
        "e = [3, 2, 1]\n",
        "f = ['a', 3, 2, 1]\n",
        "# print(min(e, f))  # 오류 발생: 문자열과 정수 간의 '<' 연산을 지원하지 않습니다.\n",
        "# 리스트 e와 f의 요소들이 서로 다른 타입이기 때문에 비교가 불가능합니다.\n",
        "\n",
        "# 예제 4: 여러 개의 리스트 중 사전식으로 가장 작은 리스트 반환\n",
        "g = [2, 3, 4]\n",
        "h = [2, 2, 2, 2, 2]\n",
        "i = [1]\n",
        "j = [1]\n",
        "k = [0]\n",
        "print(min(g, h, i, j, k))  # 출력 결과: [0]\n",
        "# 여러 리스트 g, h, i, j, k 중에서 k가 사전식으로 가장 작으므로 k를 반환합니다.\n"
      ],
      "metadata": {
        "id": "O1opImOFYq2H"
      },
      "execution_count": null,
      "outputs": []
    },
    {
      "cell_type": "code",
      "source": [
        "#문자열 안에서 매개변수로 입력한 문자열이 몇 개 들어있는지 개수를 셈\n",
        "# 문자열 'everdevel'을 myString 변수에 할당\n",
        "myString = \"everdevel\"\n",
        "# 문자열에서 'e' 문자의 빈도수를 계산\n",
        "print(myString.count('e'))  # 출력 결과: 3\n",
        "\n",
        "# 문자열 'BlockDMask'를 변수 a에 할당\n",
        "a = 'BlockDMask'\n",
        "\n",
        "# 문자열에서 'k' 문자의 빈도수를 계산\n",
        "print('#1 a.count(\"k\")')\n",
        "print(a.count('k'))  # 출력 결과: 2, 'k'가 문자열 내에 2번 등장함\n",
        "\n",
        "# 문자열에서 'DM' 문자열의 빈도수를 계산\n",
        "print('#2 a.count(\"DM\")')\n",
        "print(a.count('DM'))  # 출력 결과: 1, 'DM'이 문자열 내에 1번 등장함\n",
        "\n",
        "\n",
        "#========================================================\n",
        "# 문자열에서 특정 범위 내부에 'k' 가 몇개 있는지?\n",
        "\n",
        "# 문자열의 특정 범위(index 2부터 4까지)에서 'k' 문자의 빈도수를 계산\n",
        "print(\"#3 a[2] + ' ~ ' + a[4]\")\n",
        "print(a[2] + ' ~ ' + a[4])  # 출력 문자: 'ock', 인덱스 2부터 4까지의 문자 출력\n",
        "print(\"#4 a.count('k', 2, 3)\")\n",
        "print(a.count('k', 2, 3))  # 출력 결과: 0, 인덱스 2에서 2까지 범위에서 'k'는 없음\n",
        "print(\"#5 a.count('k', 2, 4)\")\n",
        "print(a.count('k', 2, 4))  # 출력 결과: 0, 인덱스 2에서 3까지 범위에서 'k'는 없음\n",
        "print(\"#6 a.count('k', 2, 5)\")\n",
        "print(a.count('k', 2, 5))  # 출력 결과: 1, 인덱스 2에서 4까지 범위에서 'k'는 1번 등장\n"
      ],
      "metadata": {
        "id": "vAa261opYq4x"
      },
      "execution_count": null,
      "outputs": []
    },
    {
      "cell_type": "code",
      "source": [
        "\n",
        "# 문자열 'BlockDMask Blog.'를 str 변수에 할당\n",
        "str = \"BlockDMask Blog.\"\n",
        "# 할당된 문자열을 출력\n",
        "print(f\"str : {str}\\n\")\n",
        "\n",
        "\n",
        "\n",
        "# 예제 1: 문자열에서 특정 문자 찾기\n",
        "print(\"1. str.find('찾을 문자')\")\n",
        "\n",
        "# 'a' 문자의 위치 찾기\n",
        "result1 = str.find('a')\n",
        "\n",
        "# 문자열에서 'a'가 존재할 경우, 해당 인덱스 반환\n",
        "print(f\"str.find('a') : {result1}\")  # 출력 결과: 7, 'a'가 문자열에서 7번 인덱스에 위치\n",
        "\n",
        "# 'Z' 문자의 위치 찾기\n",
        "result2 = str.find('Z')\n",
        "\n",
        "# 문자열에서 'Z'가 없을 경우 -1 반환\n",
        "print(f\"str.find('Z') : {result2}\")  # 출력 결과: -1, 'Z'는 문자열 내에 존재하지 않음\n",
        "\n",
        "# 'ask' 문자열의 위치 찾기\n",
        "result3 = str.find('ask')\n",
        "\n",
        "# 문자열에서 'ask'가 존재할 경우, 시작 인덱스 반환\n",
        "# 'ask'가 문자열에서 7번 인덱스부터 시작함\n"
      ],
      "metadata": {
        "id": "SQJAor2GYq7f"
      },
      "execution_count": null,
      "outputs": []
    },
    {
      "cell_type": "code",
      "source": [
        "# 문자열이 있는 경우\n",
        "result4 = str.find('kkk’)\n",
        "# 문자열이 없는 경우\n",
        "print(f\"str.find('ask') : {result3}\") print(f\"str.find('kkk') : {result4}\")\n",
        "print()\n",
        "\n",
        "# find 예제2\n",
        "print(\"2. str.find('찾을 문자', 시작index)\") result5 = str.find('o’)\n",
        "result6 = str.find('o', 5) print(f\"str.find('o') : {result5}\") print(f\"str[5] : {str[5]}\") print(f\"str.find('o', 5) : {result6}\")\n",
        "print()"
      ],
      "metadata": {
        "id": "FruwoAxVYq9_"
      },
      "execution_count": null,
      "outputs": []
    },
    {
      "cell_type": "code",
      "source": [
        "# 예제 3: 문자열에서 특정 문자의 위치 찾기, 시작 인덱스와 끝 인덱스를 지정\n",
        "\n",
        "\n",
        "print(\"3. str.find('찾을 문자', 시작 index, 끝 index)\")\n",
        "\n",
        "# 문자열에서 'o' 문자의 첫 번째 위치 찾기\n",
        "result7 = str.find('o')\n",
        "# 문자열에서 'o'가 발견된 첫 번째 위치 출력\n",
        "print(f\"str.find('o') : {result7}\")  # 출력 결과: 2, 문자열에서 'o'가 처음 나타나는 위치는 인덱스 2\n",
        "\n",
        "# 인덱스 5부터 11 사이에서 'o' 문자의 위치 찾기\n",
        "result8 = str.find('o', 5, 11)\n",
        "# 지정된 범위 내 문자열 출력\n",
        "print(f\"str[5]~str[11] : {str[5]} ~ {str[11]}\")  # 출력 결과: DMask B, 인덱스 5부터 11까지의 문자열은 'DMask B'\n",
        "# 지정된 범위 내에서 'o' 문자의 위치 출력\n",
        "print(f\"str.find('o', 5, 11) : {result8}\")  # 출력 결과: -1, 지정된 범위 내에 'o' 문자가 없음\n"
      ],
      "metadata": {
        "id": "MGTTQFp1YrAf"
      },
      "execution_count": null,
      "outputs": []
    },
    {
      "cell_type": "code",
      "source": [
        "str = 'Hello world, Python!'\n",
        "\n",
        "if str.startswith('Hello'):\n",
        "    print('It starts with Hello')\n",
        "\n",
        "if not str.startswith('Python'):\n",
        "    print('It does not start with Python')"
      ],
      "metadata": {
        "id": "rmsiPUYoYrDB"
      },
      "execution_count": null,
      "outputs": []
    },
    {
      "cell_type": "code",
      "source": [
        "str = \"this is string example....wow!!!\"\n",
        "\n",
        "suffix = \"wow!!!\"\n",
        "print(str.endswith(suffix))\n",
        "print(str.endswith(suffix,20))\n",
        "\n",
        "suffix = \"is\"\n",
        "print(str.endswith(suffix, 2, 4))\n",
        "print(str.endswith(suffix, 2, 6))"
      ],
      "metadata": {
        "id": "ErdsrVQ8YrFj"
      },
      "execution_count": null,
      "outputs": []
    },
    {
      "cell_type": "code",
      "source": [
        "text = 'Welcome to Codetorial'\n",
        "\n",
        "pos_e_last = text.rfind('e')\n",
        "print(pos_e_last)\n",
        "\n",
        "pos_e_first = text.find('e')\n",
        "print(pos_e_first)\n",
        "\n",
        "pos_to_last = text.rfind('to')\n",
        "print(pos_to_last)\n",
        "\n",
        "pos_to_first = text.find('to')\n",
        "print(pos_to_first)"
      ],
      "metadata": {
        "id": "FHNnmTYMYrIH"
      },
      "execution_count": null,
      "outputs": []
    },
    {
      "cell_type": "code",
      "source": [
        "a = [123, 421, 212, 11, 24, 102, 29, 92, 10]\n",
        "print(a.index(212))\n"
      ],
      "metadata": {
        "id": "fa3RqQjMY6rO"
      },
      "execution_count": null,
      "outputs": []
    },
    {
      "cell_type": "code",
      "source": [
        "\n",
        "# 리스트.index(x)\n",
        "# 데이터 x의 위치 반환\n",
        "nums_list = [1,2,3,3,3,5,6,8,9]\n",
        "nums_tuple = (1,2,3,3,3,5,6,8,9)\n",
        "nums_set = {1,2,3,5,6,8,9}\n",
        "\n",
        "print(nums_list.index(2))  # 1\n",
        "print(nums_list.index(3))  # 2\n",
        "# -> 찾고자하는 데이터가 여러개 존재할 경우, 가장 작은 위치 값 반환\n",
        "\n",
        "print(nums_tuple.index(2)) # 1\n",
        "print(nums_tuple.index(3)) # 2"
      ],
      "metadata": {
        "id": "GpCyaxGMY6uC"
      },
      "execution_count": null,
      "outputs": []
    },
    {
      "cell_type": "code",
      "source": [
        "#문자열에서 사용\n",
        "str = 'kangminheee'\n",
        "print(str.index('k'))  #0\n",
        "print(str.index('h'))  #7\n",
        "print(str.index('i'))  #5\n",
        "#print(str.index('l')) 없는 걸 찾으면 error\n",
        "print(str.index('e'))  #8 -> 여러개면 제일 첫번째것 반환\n",
        "print(str.find('e'))   #8 -> find()는 index()와 같은 기능을 가진 함수\n",
        "print(str.rfind('e'))  #10 -> 여러개중 가장 오른쪽 것 반환"
      ],
      "metadata": {
        "id": "q456dYuWY-Za"
      },
      "execution_count": null,
      "outputs": []
    },
    {
      "cell_type": "code",
      "source": [
        "hz = \"홈짱닷컴 Homzzang.com\"\n",
        "\n",
        "x = hz.rindex(\"Homzzang\")\n",
        "\n",
        "print(x)\n",
        "\n",
        "x = hz.rindex(\"o\", 2)\n",
        "print(x)"
      ],
      "metadata": {
        "id": "X1zk98ZBZBvG"
      },
      "execution_count": null,
      "outputs": []
    },
    {
      "cell_type": "code",
      "source": [
        "text = 'Welcome to Codetorial'\n",
        "\n",
        "pos_Code_last = text.rindex('Code')\n",
        "print(pos_Code_last)\n",
        "\n",
        "pos_code_last = text.rindex('code')\n",
        "print(pos_code_last)"
      ],
      "metadata": {
        "id": "UfFpJtlvZBx6"
      },
      "execution_count": null,
      "outputs": []
    }
  ]
}