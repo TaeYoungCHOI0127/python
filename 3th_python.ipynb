{
  "nbformat": 4,
  "nbformat_minor": 0,
  "metadata": {
    "colab": {
      "provenance": [],
      "authorship_tag": "ABX9TyP5oXPkREjZnetWehCpBmta",
      "include_colab_link": true
    },
    "kernelspec": {
      "name": "python3",
      "display_name": "Python 3"
    },
    "language_info": {
      "name": "python"
    }
  },
  "cells": [
    {
      "cell_type": "markdown",
      "metadata": {
        "id": "view-in-github",
        "colab_type": "text"
      },
      "source": [
        "<a href=\"https://colab.research.google.com/github/TaeYoungCHOI0127/python/blob/main/3th_python.ipynb\" target=\"_parent\"><img src=\"https://colab.research.google.com/assets/colab-badge.svg\" alt=\"Open In Colab\"/></a>"
      ]
    },
    {
      "cell_type": "code",
      "execution_count": null,
      "metadata": {
        "id": "Ej6jQemQdbQq"
      },
      "outputs": [],
      "source": [
        "print(4/3)\n",
        "print(1/2)\n",
        "print(4/2)\n",
        "print(7//3)\n",
        "print(7%3)\n",
        "print(2**10)"
      ]
    },
    {
      "cell_type": "code",
      "source": [
        "divmod(5,2)"
      ],
      "metadata": {
        "id": "ZVjNpJYLiMQ5"
      },
      "execution_count": null,
      "outputs": []
    },
    {
      "cell_type": "code",
      "source": [
        "quotient, rmainder = divmod(5,2)\n",
        "print(quotient, rmainder)"
      ],
      "metadata": {
        "id": "N_dvfzoSiMrE"
      },
      "execution_count": null,
      "outputs": []
    },
    {
      "cell_type": "code",
      "source": [
        "a=1024\n",
        "print(a)\n",
        "a+=1024\n",
        "print(a)\n",
        "a-=1024\n",
        "print(a)\n",
        "a*=4\n",
        "print(a)\n",
        "a/=2\n",
        "print(a)\n",
        "a//=2\n",
        "print(a)\n",
        "a%=1022\n",
        "print(a)\n",
        "a**=10\n",
        "print(a)"
      ],
      "metadata": {
        "id": "0-j7HhyPiMx-"
      },
      "execution_count": null,
      "outputs": []
    },
    {
      "cell_type": "code",
      "source": [
        "a = 10\n",
        "b = 3\n",
        "print(\"10 == 3 =>\", a==b)\n",
        "print(\"10 != 3 =>\", a!=b)\n",
        "print(\"10 > 3 =>\", a>b)\n",
        "print(\"10 < 3 =>\", a<b)\n",
        "print(\"10 >= 3 =>\", a>=b)\n",
        "print(\"10 <= 3 =>\", a<=b)"
      ],
      "metadata": {
        "id": "aeoV05XGiM4O"
      },
      "execution_count": null,
      "outputs": []
    },
    {
      "cell_type": "code",
      "source": [
        "print(bin(13))\n",
        "print(0b1101)"
      ],
      "metadata": {
        "id": "MUcl_-THiM-W"
      },
      "execution_count": null,
      "outputs": []
    },
    {
      "cell_type": "code",
      "source": [
        "print(bin(0b1101&0b1001))\n",
        "print(13&9)\n",
        "print(bin(0b1101|0b1001))\n",
        "print(13|9)\n",
        "print(bin(0b1101^0b1001))\n",
        "print(13^9)\n",
        "print(bin(~0b1101))\n",
        "print(~13)"
      ],
      "metadata": {
        "id": "mSkweIqYiNFh"
      },
      "execution_count": null,
      "outputs": []
    }
  ]
}