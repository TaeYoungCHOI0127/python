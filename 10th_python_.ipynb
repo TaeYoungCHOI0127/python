{
  "nbformat": 4,
  "nbformat_minor": 0,
  "metadata": {
    "colab": {
      "provenance": [],
      "authorship_tag": "ABX9TyOShA7aiAlH9hLzWkw3LmDV",
      "include_colab_link": true
    },
    "kernelspec": {
      "name": "python3",
      "display_name": "Python 3"
    },
    "language_info": {
      "name": "python"
    }
  },
  "cells": [
    {
      "cell_type": "markdown",
      "metadata": {
        "id": "view-in-github",
        "colab_type": "text"
      },
      "source": [
        "<a href=\"https://colab.research.google.com/github/TaeYoungCHOI0127/python/blob/main/10th_python_.ipynb\" target=\"_parent\"><img src=\"https://colab.research.google.com/assets/colab-badge.svg\" alt=\"Open In Colab\"/></a>"
      ]
    },
    {
      "cell_type": "code",
      "execution_count": null,
      "metadata": {
        "id": "cF-9sxEYd1Ix"
      },
      "outputs": [],
      "source": [
        "def func1():\n",
        "    print('BlockDMask')\n",
        "\n",
        "\n",
        "func1()\n",
        "func1()\n",
        "func1()\n",
        "\n",
        "for i in range(3):\n",
        "  func1()"
      ]
    },
    {
      "cell_type": "code",
      "source": [
        "def func2(a,b):\n",
        "    print(f'{a} 곱하기 {b} = {a * b}')\n",
        "\n",
        "func2(1,2)\n",
        "func2(1,3)\n",
        "func2(2,4)"
      ],
      "metadata": {
        "id": "wP3RCJJ9d1ie"
      },
      "execution_count": null,
      "outputs": []
    },
    {
      "cell_type": "code",
      "source": [
        "def func3():\n",
        "    return \"abcdefg\"\n",
        "a = func3()\n",
        "print(a, \"GG\", sep=\" \")"
      ],
      "metadata": {
        "id": "RgnWfxEnd1ld"
      },
      "execution_count": null,
      "outputs": []
    },
    {
      "cell_type": "code",
      "source": [
        "def func4(a, b):\n",
        "    return a * b\n",
        "\n",
        "a = input()\n",
        "c = func4(input(a), 9)\n",
        "print(c)\n"
      ],
      "metadata": {
        "id": "O1Mv9AdCd1n6"
      },
      "execution_count": null,
      "outputs": []
    },
    {
      "cell_type": "code",
      "source": [
        "# for i in range(1,10):\n",
        "#     print(f'{2} x {i} = {2 * i}')\n",
        "# for i in range(1,10):\n",
        "#     print(f'{3} x {i} = {3 * i}')\n",
        "\n",
        "  # print()\n",
        "  # print()\n",
        "  # print()\n",
        "\n",
        "def gugudan(num):\n",
        "    for i in range(1, 10):\n",
        "        print(f'{num} x {i} = {num * i}')\n",
        "    print()\n",
        "# 구구단 출력\n",
        "gugudan(2)\n",
        "\n",
        "gugudan(3)"
      ],
      "metadata": {
        "id": "rdSW4mbnd1qm"
      },
      "execution_count": null,
      "outputs": []
    },
    {
      "cell_type": "code",
      "source": [
        "def func1(a , b=5, c=10):\n",
        "    return a + b + c\n",
        "\n",
        "print(func1(1, 2, 3)) # 1 + 5 = 6\n",
        "print(func1(1,2))     # 1 + 2 = 13\n",
        "print(func1(1))       # 1 + 5 = 1\n",
        "print()"
      ],
      "metadata": {
        "id": "PmgjAWqmd1s_"
      },
      "execution_count": null,
      "outputs": []
    },
    {
      "cell_type": "code",
      "source": [
        "def func3():\n",
        "    return \"abcdefg\"\n",
        "\n",
        "\n",
        "a = func3()\n",
        "print(a + \"GG\")"
      ],
      "metadata": {
        "id": "XwdA9lk4d1vw"
      },
      "execution_count": null,
      "outputs": []
    },
    {
      "cell_type": "code",
      "source": [
        "def func6(*args):\n",
        "    a = 0\n",
        "    for i in args:\n",
        "        a = a + i\n",
        "    return a\n",
        "\n",
        "b = func6(1, 5)\n",
        "print(b)\n",
        "\n",
        "c = func6(2, 3, 4, 5)\n",
        "print(c)\n",
        "\n",
        "d = func6(1,2,3,4,5,4,3,2,1)\n",
        "print(d)\n",
        "\n",
        "e = func6()\n",
        "print(e)"
      ],
      "metadata": {
        "id": "sXjsb7CHd1yQ"
      },
      "execution_count": null,
      "outputs": []
    },
    {
      "cell_type": "code",
      "source": [
        "def test(*val):\n",
        "    for i in val:\n",
        "        print(i)\n",
        "\n",
        "test(1, 'a', 'c', 3)"
      ],
      "metadata": {
        "id": "lsjPXoNId10s"
      },
      "execution_count": null,
      "outputs": []
    },
    {
      "cell_type": "code",
      "source": [
        "def sum_mul(choice, *val):\n",
        "    if choice == 'sum':\n",
        "        result = 0\n",
        "        for i in val:\n",
        "          result = result + i\n",
        "    elif choice == 'mul':\n",
        "        result = 1\n",
        "        for i in val:\n",
        "          result = result * i\n",
        "    print()\n",
        "    return result\n",
        "\n",
        "print(sum_mul('sum', 1,2,3,4,5 ))\n",
        "print(sum_mul('mul', 1,2,3,4,5 ))"
      ],
      "metadata": {
        "id": "XvKJ-GN4d13T"
      },
      "execution_count": null,
      "outputs": []
    },
    {
      "cell_type": "code",
      "source": [
        "def comp(score=0):\n",
        "    if score == 0:\n",
        "        return 0\n",
        "    elif score > 50:\n",
        "        return 2\n",
        "    else:\n",
        "        return 1\n",
        "\n",
        "grade = comp(40)\n",
        "print(\"Grade is \", grade, \" for \", 40)\n",
        "\n",
        "grade = comp(80)\n",
        "print(\"Grade is \", grade, \" for \", 80)\n",
        "\n",
        "grade = comp()\n",
        "print(\"Grade is \", grade, \" for \", \"for no score\")"
      ],
      "metadata": {
        "id": "eclY4mhVd16S"
      },
      "execution_count": null,
      "outputs": []
    },
    {
      "cell_type": "code",
      "source": [
        "def report(name, age, score):\n",
        "    print(name, score)\n",
        "\n",
        "report(age =20, name=\"TaeYoung\", score=95)\n",
        "report(\"TaeYoung\", 20, 95)"
      ],
      "metadata": {
        "id": "QIAFtMrxePWK"
      },
      "execution_count": null,
      "outputs": []
    }
  ]
}